{
  "nbformat": 4,
  "nbformat_minor": 0,
  "metadata": {
    "colab": {
      "name": "MachineLearningBeginner_v1.ipynb",
      "provenance": [],
      "collapsed_sections": [
        "QNU4ckqwgnbt",
        "9oHbMw_6__aH",
        "FSE8M11c8rn4",
        "_h52rfvScGfS",
        "FhguuM_Si26u",
        "AexRfyV6lbqb"
      ],
      "authorship_tag": "ABX9TyM779yMBtMsu2PLsuktMtBl",
      "include_colab_link": true
    },
    "kernelspec": {
      "name": "python3",
      "display_name": "Python 3"
    },
    "language_info": {
      "name": "python"
    }
  },
  "cells": [
    {
      "cell_type": "markdown",
      "metadata": {
        "id": "view-in-github",
        "colab_type": "text"
      },
      "source": [
        "<a href=\"https://colab.research.google.com/github/nuageklow/sld_machinelearning/blob/main/MachineLearningBeginner_v1.ipynb\" target=\"_parent\"><img src=\"https://colab.research.google.com/assets/colab-badge.svg\" alt=\"Open In Colab\"/></a>"
      ]
    },
    {
      "cell_type": "markdown",
      "source": [
        "\n",
        "# Introduction\n",
        "\n",
        "In this step-by-step tutorial you will using California Housing data to predict the median house values with linear regression. \n",
        "\n",
        "[Part I - Import Libraries and Understand the Data](#import-libraries-and-understand-the-data) \n",
        "1. Import python libraries \n",
        "2. Get your data\n",
        "3. Data Exploration (Breakout Room)\n",
        "\n",
        "\n",
        "[Part II - Build The Linear Regression Algorithm in Python](#develop-the-linear-regression-algorithm-in-python)\n",
        "1. Create Basic Statistics Functions for Linear Regression (Breakout Room)  \n",
        "2. Build the algorithm for Linear Regression  \n",
        "3. Build Functions to handle dataset and results  \n",
        "4. Exceute \n",
        "\n",
        "[Part III - Linear Regression using libraries](#linear-regression-using-libraries) \n",
        "\n",
        "\n",
        "\n"
      ],
      "metadata": {
        "id": "n5IrAsmn8n6R"
      }
    },
    {
      "cell_type": "markdown",
      "source": [
        "# <font color=\"darkorchid\">Import Libraries and Understand the Data "
      ],
      "metadata": {
        "id": "QNU4ckqwgnbt"
      }
    },
    {
      "cell_type": "markdown",
      "source": [
        "## Required Python Libraries  \n",
        "[__numpy__](https://numpy.org/) - provides functions on data structures. Also supports basic math functions  \n",
        "\n",
        "[__pandas__]() - also provides data structures and a very convinient tool to manipulate and analyze data  \n",
        "\n",
        "[__scikit-learn__]() - contains all the basic machine learning algorithms for regression, classification and clustering etc.\n",
        "\n",
        "[__matplotlib__]() - a popular Python library that can be used for creating graphs such as charts.  \n"
      ],
      "metadata": {
        "id": "9oHbMw_6__aH"
      }
    },
    {
      "cell_type": "code",
      "source": [
        "# check if required libraries are installed\n",
        "!pip install numpy\n",
        "!pip install pandas\n",
        "!pip install sklearn\n",
        "!pip install matplotlib"
      ],
      "metadata": {
        "id": "10bsDLXiA4G2"
      },
      "execution_count": null,
      "outputs": []
    },
    {
      "cell_type": "code",
      "source": [
        "# import required python libraries\n",
        "import numpy as np\n",
        "import pandas as pd\n",
        "import sklearn\n",
        "import matplotlib\n",
        "from random import seed, randrange\n",
        "from math import sqrt\n",
        "from sklearn import datasets"
      ],
      "metadata": {
        "id": "Wk4JBebFA8d8"
      },
      "execution_count": 11,
      "outputs": []
    },
    {
      "cell_type": "markdown",
      "source": [
        "## Importing data  \n",
        "\n",
        "Machine learning libraries contain a function where users can call datasets that are commonly used for training.  \n",
        "\n",
        "We will be using a dataset called 'California Housing'."
      ],
      "metadata": {
        "id": "-_rYTxC4Rn7S"
      }
    },
    {
      "cell_type": "code",
      "source": [
        "from sklearn import datasets\n",
        "# get data from datasets\n",
        "data_df = datasets.fetch_california_housing(as_frame=True).frame\n",
        "\n",
        "\n"
      ],
      "metadata": {
        "id": "82J_pKHdS0T7"
      },
      "execution_count": null,
      "outputs": []
    },
    {
      "cell_type": "markdown",
      "source": [
        "## Understanding the Data (Breakout Session)  \n",
        "\n",
        "\n",
        "* find data size \n",
        "* column names  \n",
        "* ensure no null values "
      ],
      "metadata": {
        "id": "c1CZJSAz_zQ4"
      }
    },
    {
      "cell_type": "code",
      "source": [
        "# find out the shape of data\n",
        "print(data_df.shape)\n",
        "\n",
        "# find out the \n",
        "print(data_df.size)\n",
        "\n",
        "# take a peek at the data - head 5\n",
        "print(data_df.head(5))\n",
        "\n",
        "# find missing values\n",
        "print(data_df.isnull().sum())"
      ],
      "metadata": {
        "id": "_ydeYnz7kO-J"
      },
      "execution_count": null,
      "outputs": []
    },
    {
      "cell_type": "markdown",
      "source": [
        "# <font color=\"hotpink\">Build The Linear Regression Algorithm in Python"
      ],
      "metadata": {
        "id": "SdzW955-iDFZ"
      }
    },
    {
      "cell_type": "markdown",
      "source": [
        "## Create Statistics Functions For Linear Regression (Breakout Session)\n",
        "\n",
        "mean \n",
        "  * the average of list of data  \n",
        "\n",
        "variance \n",
        "  * sum of sequared difference for each value from the mean value  \n",
        "\n",
        "covariance  \n",
        "  * variance between 2 groups of numbers\n",
        "\n"
      ],
      "metadata": {
        "id": "FSE8M11c8rn4"
      }
    },
    {
      "cell_type": "code",
      "source": [
        "# create a mean function to find out the mean value from a list of items\n",
        "def mean(values_list):\n",
        "  # calculate the sum of the values_list\n",
        "  sum_values_list = sum(values_list)\n",
        "\n",
        "  # get the length of the values_list\n",
        "  length_values_list = len(values_list)\n",
        "\n",
        "  # find out the mean (convert length to float as datatype to keep the decimals)\n",
        "  mean = sum_values_list / float(length_values_list)\n",
        "  \n",
        "  return mean"
      ],
      "metadata": {
        "id": "5eueKb0z8qfz"
      },
      "execution_count": null,
      "outputs": []
    },
    {
      "cell_type": "code",
      "source": [
        "# create a variance function   \n",
        "def variance(values_list, mean):\n",
        "  # create an empty list to store the values\n",
        "  variance_list = []\n",
        "\n",
        "  # use for loop to calculate the squared difference of mean and add to the mean \n",
        "  for x in values_list:\n",
        "    mean_sqdiff = (x - mean) ** 2\n",
        "    variance_list.append(mean_sqdiff)\n",
        "    \n",
        "  # sum the values\n",
        "  variance = sum(variance_list)\n",
        "  return variance"
      ],
      "metadata": {
        "id": "u7A4kcdy9liq"
      },
      "execution_count": null,
      "outputs": []
    },
    {
      "cell_type": "code",
      "source": [
        "# create a covariance function  \n",
        "def covariance(x, x_mean, y, y_mean):\n",
        "  # set covariance = 0\n",
        "  covar = 0.0 \n",
        "\n",
        "  # add covariance for each data point (x as list)\n",
        "  for i in range(len(x)):\n",
        "    covar += (x[i] - x_mean) * (y[i] - y_mean)\n",
        "\n",
        "  return covar"
      ],
      "metadata": {
        "id": "4on5hRyW-KUh"
      },
      "execution_count": null,
      "outputs": []
    },
    {
      "cell_type": "markdown",
      "source": [
        "## Develop the algorithm for Linear Regression \n",
        "\n",
        "Once we've created the basic statistical funtions above, we start implementing these funtion into an algorithm  \n",
        "\n",
        "coefficient  \n",
        "* linear regression is to estimate the values for 2 coefficients  \n",
        "\n",
        "linear regression algorithm (simple)  \n",
        "* implement the prediction equation to make predictions on test dataset"
      ],
      "metadata": {
        "id": "_h52rfvScGfS"
      }
    },
    {
      "cell_type": "code",
      "source": [
        "# create an coefficient function \n",
        "def coefficients(x, y):\n",
        "  # calculate mean \n",
        "  x_mean, y_mean = mean(x), mean(y)\n",
        "\n",
        "  # covariance divided by variance\n",
        "  b1 = covariance(x, x_mean, y, y_mean) / variance(x, x_mean)\n",
        "\n",
        "  # find the intercept to control the starting point of the regression line\n",
        "  b0 = y_mean - b1 * x_mean\n",
        "  \n",
        "  return [b0, b1]"
      ],
      "metadata": {
        "id": "mSf5RqGMqQIs"
      },
      "execution_count": null,
      "outputs": []
    },
    {
      "cell_type": "code",
      "source": [
        "def linear_regression(train, test):\n",
        "  # create an empty list called predictions to store all the scores\n",
        "  predictions = list()\n",
        "\n",
        "  # get the coefficients from training data\n",
        "  b0, b1 = coefficients(train)\n",
        "\n",
        "  # apply the b0 and b1 values on testing data\n",
        "  for row in test:\n",
        "      yhat = b0 + b1 * row[0]\n",
        "      predictions.append(yhat)\n",
        "      \n",
        "  return predictions"
      ],
      "metadata": {
        "id": "3SJmHzrlsExf"
      },
      "execution_count": null,
      "outputs": []
    },
    {
      "cell_type": "markdown",
      "source": [
        "## Build Functions to handle dataset and results\n",
        "\n",
        "train_test_split  \n",
        "* split up the dataset into a specific ratio  \n",
        "\n",
        "rmse_metric  \n",
        "* calculate root mean squared error\n",
        "\n",
        "evaluate_algorthm\n",
        "* evaluate an algorithm using a train/test split\n",
        "\n",
        "\n",
        "\n"
      ],
      "metadata": {
        "id": "FhguuM_Si26u"
      }
    },
    {
      "cell_type": "code",
      "source": [
        "# create a function to separate dataset list\n",
        "def train_test_split(dataset, split):\n",
        "  # create an empty called train\n",
        "  train = list()\n",
        "\n",
        "  # create split \n",
        "  train_size = split * len(dataset)\n",
        "  dataset_copy = list(dataset) \n",
        "\n",
        "  # get train dataset\n",
        "  while len(train) < train_size:  #\n",
        "    index = randrange(len(dataset_copy))\n",
        "    train.append(dataset_copy.pop(index))\n",
        "  return train, dataset_copy\n"
      ],
      "metadata": {
        "id": "raRU2t9isZv5"
      },
      "execution_count": null,
      "outputs": []
    },
    {
      "cell_type": "code",
      "source": [
        "# set up rmse_metric to as a measure to evaluate result\n",
        "def rmse_metric(actual, predicted):\n",
        "  # set error as 0 as starting point\n",
        "  sum_error = 0.0\n",
        "\n",
        "  \n",
        "  for i in range(len(actual)):\n",
        "      prediction_error = predicted[i] - actual[i]\n",
        "      sum_error += (prediction_error ** 2)\n",
        "  mean_error = sum_error / float(len(actual))\n",
        "  return sqrt(mean_error)"
      ],
      "metadata": {
        "id": "DAX5MnlEkXYa"
      },
      "execution_count": null,
      "outputs": []
    },
    {
      "cell_type": "code",
      "source": [
        "# evaluate an algorithm using a train/test split\n",
        "def evaluate_algorithm(dataset, algorithm, split, *args):\n",
        "  train, test = train_test_split(dataset, split)\n",
        "  test_set = list()\n",
        "  for row in test:\n",
        "      row_copy = list(row)\n",
        "      row_copy[-1] = None\n",
        "      test_set.append(row_copy)\n",
        "  predicted = algorithm(train, test_set, *args)\n",
        "  actual = [row[-1] for row in test]\n",
        "  rmse = rmse_metric(actual, predicted)\n",
        "  return rmse"
      ],
      "metadata": {
        "id": "5XpFiNBcksiC"
      },
      "execution_count": null,
      "outputs": []
    },
    {
      "cell_type": "markdown",
      "source": [
        "## Exceute \n",
        "\n"
      ],
      "metadata": {
        "id": "VNSZdPC9mCv_"
      }
    },
    {
      "cell_type": "code",
      "source": [
        "seed(1) # initialize internal state from a seed\n",
        "split = 0.7\n",
        "df = data_df.frame\n",
        "dataset = [[x,y] for x,y in zip(df['HouseAge'], df['MedHouseVal'])]\n",
        "rmse = evaluate_algorithm(dataset, linear_regression, split)\n",
        "print( ' RMSE: %.3f ' % (rmse))  # lower the better"
      ],
      "metadata": {
        "id": "o0qlBaTPmLtz"
      },
      "execution_count": null,
      "outputs": []
    },
    {
      "cell_type": "markdown",
      "source": [
        "# <font color=\"moccasin\">Linear Regression using libraries </font>"
      ],
      "metadata": {
        "id": "AexRfyV6lbqb"
      }
    },
    {
      "cell_type": "code",
      "execution_count": null,
      "metadata": {
        "id": "LuvrSdnu8jNR"
      },
      "outputs": [],
      "source": [
        "\n",
        "# import libraries\n",
        "from sklearn import datasets\n",
        "from sklearn.model_selection import train_test_split, KFold, cross_val_score\n",
        "from sklearn.linear_model import LinearRegression, LogisticRegression\n",
        "\n",
        "\n",
        "# get data\n",
        "data_array = datasets.fetch_california_housing().data\n",
        "\n",
        "# separate the data\n",
        "X = data_array[:,0:-2]\n",
        "Y = data_array[:,-1]\n",
        "\n",
        "\n",
        "test_size = 0.3\n",
        "seed = 7\n",
        "\n",
        "kfold = KFold(n_splits=10, random_state=7, shuffle=True)\n",
        "model = LinearRegression()\n",
        "scoring = 'r2'\n",
        "results = cross_val_score(model, X, Y, cv=kfold, scoring=scoring)\n",
        "print(\"R^2: %.3f (%.3f)\" % (results.mean(), results.std()))"
      ]
    }
  ]
}